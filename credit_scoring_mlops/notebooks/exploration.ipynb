{
 "cells": [
  {
   "cell_type": "markdown",
   "id": "166d6f3c",
   "metadata": {},
   "source": [
    "# Analyse Exploratoire Initiale - Credit Scoring,\n",
    "    Ce notebook permet de réaliser une analyse exploratoire du dataset de scoring crédit.\n",
    "**Objectifs** :\n",
    "   - Comprendre les features socio-démographiques et comportementales\n",
    "   - Identifier les valeurs manquantes et anomalies\n",
    "   - Visualiser les distributions et corrélations"
   ]
  },
  {
   "cell_type": "markdown",
   "id": "dc5c8b94",
   "metadata": {},
   "source": [
    "## Import des bibliothèques"
   ]
  },
  {
   "cell_type": "code",
   "execution_count": null,
   "id": "1944fd38",
   "metadata": {},
   "outputs": [],
   "source": [
    "# Import des bibliothèques\n",
    "import pandas as pd\n",
    "import numpy as np\n",
    "import matplotlib.pyplot as plt\n",
    "import seaborn as sns\n",
    "\n",
    "# Réglages matplotlib/seaborn\n",
    "sns.set(style='whitegrid')\n",
    "plt.rcParams['figure.figsize'] = (10,6)"
   ]
  },
  {
   "cell_type": "markdown",
   "id": "b358c212",
   "metadata": {},
   "source": [
    "## Charger le dataset"
   ]
  },
  {
   "cell_type": "code",
   "execution_count": null,
   "id": "2975963b",
   "metadata": {},
   "outputs": [],
   "source": [
    "# Charger le dataset\n",
    "df = pd.read_csv('../data/processed/processed_data.csv')  # chemin relatif\n",
    "df.head()"
   ]
  },
  {
   "cell_type": "markdown",
   "id": "42fde43c",
   "metadata": {},
   "source": [
    "## Informations générales"
   ]
  },
  {
   "cell_type": "code",
   "execution_count": null,
   "id": "467b3f88",
   "metadata": {},
   "outputs": [],
   "source": [
    "# Informations générales\n",
    "df.info()"
   ]
  },
  {
   "cell_type": "markdown",
   "id": "31ae2536",
   "metadata": {},
   "source": [
    "## Statistiques descriptives"
   ]
  },
  {
   "cell_type": "code",
   "execution_count": null,
   "id": "a1104a76",
   "metadata": {},
   "outputs": [],
   "source": [
    "# Statistiques descriptives\n",
    "df.describe()"
   ]
  },
  {
   "cell_type": "markdown",
   "id": "fbbf9c4d",
   "metadata": {},
   "source": [
    "## Vérifier les valeurs manquantes"
   ]
  },
  {
   "cell_type": "code",
   "execution_count": null,
   "id": "4388d5a9",
   "metadata": {},
   "outputs": [],
   "source": [
    "# Vérifier les valeurs manquantes\n",
    "missing = df.isnull().sum()\n",
    "missing[missing > 0]"
   ]
  },
  {
   "cell_type": "markdown",
   "id": "b4bc4360",
   "metadata": {},
   "source": [
    "## Visualisation des distributions pour quelques features"
   ]
  },
  {
   "cell_type": "code",
   "execution_count": null,
   "id": "840bd10f",
   "metadata": {},
   "outputs": [],
   "source": [
    "# Visualisation des distributions pour quelques features\n",
    "features_to_plot = ['age', 'income', 'loan_amount']  # adapter selon ton dataset\n",
    "for feature in features_to_plot:\n",
    "    sns.histplot(df[feature], kde=True, bins=30)\n",
    "    plt.title(f'Distribution de {feature}')\n",
    "    plt.show()"
   ]
  },
  {
   "cell_type": "markdown",
   "id": "4d1d2588",
   "metadata": {},
   "source": [
    "## Matrice de corrélation"
   ]
  },
  {
   "cell_type": "code",
   "execution_count": null,
   "id": "637232e9",
   "metadata": {},
   "outputs": [],
   "source": [
    "# Matrice de corrélation\n",
    "corr_matrix = df.corr()\n",
    "plt.figure(figsize=(12,8))\n",
    "sns.heatmap(corr_matrix, annot=True, fmt='.2f', cmap='coolwarm')\n",
    "plt.title('Matrice de corrélation')\n",
    "plt.show()"
   ]
  },
  {
   "cell_type": "markdown",
   "id": "0185aa2b",
   "metadata": {},
   "source": [
    "## Observations et prochaines étapes\n",
    "- Identifier les features pertinentes pour le modèle\n",
    "- Imputer ou traiter les valeurs manquantes\n",
    "- Normaliser / encoder les variables si nécessaire"
   ]
  },
  {
   "cell_type": "markdown",
   "id": "b42c85f3",
   "metadata": {},
   "source": []
  }
 ],
 "metadata": {
  "kernelspec": {
   "display_name": "venv (3.12.2)",
   "language": "python",
   "name": "python3"
  },
  "language_info": {
   "name": "python",
   "version": "3.12.2"
  }
 },
 "nbformat": 4,
 "nbformat_minor": 5
}
