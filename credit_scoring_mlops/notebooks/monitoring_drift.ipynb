{
 "cells": [
  {
   "cell_type": "markdown",
   "id": "3178f7fd",
   "metadata": {},
   "source": [
    "# Surveillance des dérives - Credit Scoring\n",
    "    Ce notebook utilise Evidently AI pour détecter et visualiser les dérives de données et de modèles.\n",
    "**Objectifs :**\n",
    "- Détecter les changements dans la distribution des features\n",
    "- Comparer les performances du modèle sur de nouvelles données\n",
    "- Générer un dashboard HTML de suivi"
   ]
  },
  {
   "cell_type": "markdown",
   "id": "d9160ffb",
   "metadata": {},
   "source": [
    "## Import des bibliothèques"
   ]
  },
  {
   "cell_type": "code",
   "execution_count": null,
   "id": "d248e405",
   "metadata": {},
   "outputs": [],
   "source": [
    "# Import des bibliothèques\n",
    "import pandas as pd\n",
    "from evidently.dashboard import Dashboard\n",
    "from evidently.dashboard.tabs import DataDriftTab, ClassificationPerformanceTab\n",
    "from evidently.model_profile import Profile\n",
    "from evidently.model_profile.sections import DataDriftProfileSection, ClassificationPerformanceProfileSection\n",
    "import matplotlib.pyplot as plt\n",
    "import os"
   ]
  },
  {
   "cell_type": "markdown",
   "id": "d093e34a",
   "metadata": {},
   "source": [
    "## Charger les données de référence et nouvelles données"
   ]
  },
  {
   "cell_type": "code",
   "execution_count": null,
   "id": "67133f3c",
   "metadata": {},
   "outputs": [],
   "source": [
    "# Charger les données de référence et nouvelles données\n",
    "reference_data = pd.read_csv('../data/reference/reference_data.csv')\n",
    "new_data = pd.read_csv('../data/new_data/new_data.csv')\n",
    "\n",
    "# Assurez-vous que la colonne cible s'appelle 'target'\n",
    "target_column = 'target'\n",
    "\n",
    "# Séparer features et target\n",
    "features = [col for col in reference_data.columns if col != target_column]"
   ]
  },
  {
   "cell_type": "markdown",
   "id": "9d4f8230",
   "metadata": {},
   "source": [
    "## 1️⃣ Dashboard de dérive"
   ]
  },
  {
   "cell_type": "code",
   "execution_count": null,
   "id": "da8167a4",
   "metadata": {},
   "outputs": [],
   "source": [
    "data_drift_dashboard = Dashboard(tabs=[DataDriftTab()])\n",
    "data_drift_dashboard.calculate(reference_data, new_data)\n",
    "\n",
    "# Export en HTML\n",
    "os.makedirs('../dashboards', exist_ok=True)\n",
    "data_drift_dashboard.save('../dashboards/data_drift_dashboard.html')\n",
    "print('Dashboard de dérive généré dans dashboards/data_drift_dashboard.html')"
   ]
  },
  {
   "cell_type": "markdown",
   "id": "13d2135f",
   "metadata": {},
   "source": [
    "## 2️⃣ Dashboard de performance classification"
   ]
  },
  {
   "cell_type": "code",
   "execution_count": null,
   "id": "e071e890",
   "metadata": {},
   "outputs": [],
   "source": [
    "performance_dashboard = Dashboard(tabs=[ClassificationPerformanceTab()])\n",
    "performance_dashboard.calculate(reference_data, new_data, target_column=target_column, prediction_column='prediction')  # remplacer 'prediction' par la colonne de prédiction\n",
    "performance_dashboard.save('../dashboards/classification_performance_dashboard.html')\n",
    "print('Dashboard de performance généré dans dashboards/classification_performance_dashboard.html')"
   ]
  },
  {
   "cell_type": "markdown",
   "id": "fa61227b",
   "metadata": {},
   "source": [
    "## 3️⃣ Profil complet de dérive (optionnel)"
   ]
  },
  {
   "cell_type": "code",
   "execution_count": null,
   "id": "f20ace33",
   "metadata": {},
   "outputs": [],
   "source": [
    "profile = Profile(sections=[DataDriftProfileSection(), ClassificationPerformanceProfileSection()])\n",
    "profile.calculate(reference_data, new_data, target_column=target_column, prediction_column='prediction')\n",
    "profile.save('../dashboards/model_profile_report.json')\n",
    "print('Profil complet sauvegardé dans dashboards/model_profile_report.json')"
   ]
  },
  {
   "cell_type": "markdown",
   "id": "d6c97d41",
   "metadata": {},
   "source": [
    "## ✅ Explications :\n",
    "\n",
    "- `DataDriftTab` : visualise la dérive des features entre les données de référence et les nouvelles données.\n",
    "- `ClassificationPerformanceTab` : compare les performances du modèle (AUC, F1, confusion matrix) sur les deux jeux de données.\n",
    "- `Profile` : génère un rapport JSON complet pour intégration automatisée dans un pipeline de monitoring.\n",
    "- Les dashboards HTML peuvent être intégrés dans un tableau de bord de supervision."
   ]
  },
  {
   "cell_type": "markdown",
   "id": "3ba07335",
   "metadata": {},
   "source": []
  }
 ],
 "metadata": {
  "kernelspec": {
   "display_name": "venv (3.12.2)",
   "language": "python",
   "name": "python3"
  },
  "language_info": {
   "name": "python",
   "version": "3.12.2"
  }
 },
 "nbformat": 4,
 "nbformat_minor": 5
}
