{
 "cells": [
  {
   "cell_type": "markdown",
   "id": "8d856842",
   "metadata": {},
   "source": [
    "# Comparaison des modèles - Credit Scoring\n",
    "    Ce notebook entraîne plusieurs modèles et compare leurs performances.\n",
    "- Modèles : Logistic Regression, XGBoost, Neural Network (TensorFlow/Keras)\n",
    "- Métriques : AUC, F1-score\n",
    "- Tracking : MLflow"
   ]
  },
  {
   "cell_type": "markdown",
   "id": "d2b416b4",
   "metadata": {},
   "source": [
    "## Import des bibliothèques"
   ]
  },
  {
   "cell_type": "code",
   "execution_count": null,
   "id": "4e9cd0ba",
   "metadata": {},
   "outputs": [],
   "source": [
    "# Import des bibliothèques\n",
    "import pandas as pd\n",
    "import numpy as np\n",
    "from sklearn.model_selection import train_test_split\n",
    "from sklearn.preprocessing import StandardScaler\n",
    "from sklearn.linear_model import LogisticRegression\n",
    "from sklearn.metrics import roc_auc_score, f1_score\n",
    "import xgboost as xgb\n",
    "from tensorflow.keras.models import Sequential\n",
    "from tensorflow.keras.layers import Dense, Dropout\n",
    "import mlflow\n",
    "import mlflow.sklearn\n",
    "import mlflow.tensorflow"
   ]
  },
  {
   "cell_type": "code",
   "execution_count": null,
   "id": "9a52a696",
   "metadata": {},
   "outputs": [],
   "source": [
    "# Charger les données\n",
    "df = pd.read_csv('../data/processed/processed_data.csv')\n",
    "X = df.drop('target', axis=1)  # remplacer 'target' par la colonne cible\n",
    "y = df['target']\n",
    "\n",
    "# Split train/validation/test\n",
    "X_train, X_temp, y_train, y_temp = train_test_split(X, y, test_size=0.3, random_state=42)\n",
    "X_val, X_test, y_val, y_test = train_test_split(X_temp, y_temp, test_size=0.5, random_state=42)\n",
    "\n",
    "# Scaling des features\n",
    "scaler = StandardScaler()\n",
    "X_train_scaled = scaler.fit_transform(X_train)\n",
    "X_val_scaled = scaler.transform(X_val)\n",
    "X_test_scaled = scaler.transform(X_test)"
   ]
  },
  {
   "cell_type": "markdown",
   "id": "ffd19636",
   "metadata": {},
   "source": [
    "## Fonction pour évaluer et logger les modèles"
   ]
  },
  {
   "cell_type": "code",
   "execution_count": null,
   "id": "a1e027fc",
   "metadata": {},
   "outputs": [],
   "source": [
    "# Fonction pour évaluer et logger les modèles\n",
    "def evaluate_model(model, X_val, y_val, X_test, y_test, model_name):\n",
    "    y_val_pred = model.predict(X_val)\n",
    "    y_test_pred = model.predict(X_test)\n",
    "    auc = roc_auc_score(y_test, y_test_pred)\n",
    "    f1 = f1_score(y_test, y_test_pred)\n",
    "\n",
    "    print(\"{model_name} - Test AUC:\" {auc:.4f}, F1: {f1:.4f})\n",
    "\n",
    "    # MLflow logging\n",
    "    with mlflow.start_run(run_name=model_name):\n",
    "    mlflow.log_param('model', model_name)\n",
    "    mlflow.log_metric('auc', auc)\n",
    "    mlflow.log_metric('f1', f1)\n",
    "    mlflow.sklearn.log_model(model, model_name)\n",
    "    return auc, f1"
   ]
  },
  {
   "cell_type": "markdown",
   "id": "8a30108c",
   "metadata": {},
   "source": [
    "## 1️⃣ Logistic Regression\""
   ]
  },
  {
   "cell_type": "code",
   "execution_count": null,
   "id": "04fc2da2",
   "metadata": {},
   "outputs": [],
   "source": [
    "lr_model = LogisticRegression(class_weight='balanced', max_iter=1000)\n",
    "lr_model.fit(X_train_scaled, y_train)\n",
    "evaluate_model(lr_model, X_val_scaled, y_val, X_test_scaled, y_test, 'LogisticRegression')"
   ]
  },
  {
   "cell_type": "markdown",
   "id": "b804c36d",
   "metadata": {},
   "source": [
    "## 2️⃣ XGBoost"
   ]
  },
  {
   "cell_type": "code",
   "execution_count": null,
   "id": "f91d66a9",
   "metadata": {},
   "outputs": [],
   "source": [
    "xgb_model = xgb.XGBClassifier(use_label_encoder=False, eval_metric='logloss', scale_pos_weight=sum(y_train==0)/sum(y_train==1))\n",
    "xgb_model.fit(X_train, y_train)\n",
    "evaluate_model(xgb_model, X_val, y_val, X_test, y_test, 'XGBoost')"
   ]
  },
  {
   "cell_type": "markdown",
   "id": "6018bc4b",
   "metadata": {},
   "source": [
    "## 3️⃣ Neural Network (TensorFlow / Keras)"
   ]
  },
  {
   "cell_type": "code",
   "execution_count": null,
   "id": "0122dade",
   "metadata": {},
   "outputs": [],
   "source": [
    "nn_model = Sequential([\n",
    "    Dense(64, activation='relu', input_shape=(X_train_scaled.shape[1],)),\n",
    "    Dropout(0.3),\n",
    "    Dense(32, activation='relu'),\n",
    "    Dense(1, activation='sigmoid')\n",
    "])\n",
    "    \n",
    "nn_model.compile(optimizer='adam', loss='binary_crossentropy', metrics=['AUC', 'F1Score'])\n",
    "\n",
    "nn_model.fit(X_train_scaled, y_train, validation_data=(X_val_scaled, y_val), epochs=20, batch_size=32)\n",
    "\n",
    "# MLflow tracking TensorFlow\n",
    "with mlflow.start_run(run_name='NeuralNetwork'):\n",
    "    mlflow.tensorflow.log_model(nn_model, 'NeuralNetwork')\n",
    "    y_test_pred_nn = (nn_model.predict(X_test_scaled) > 0.5).astype(int)\n",
    "    auc = roc_auc_score(y_test, y_test_pred_nn)\n",
    "    f1 = f1_score(y_test, y_test_pred_nn)\n",
    "    mlflow.log_metric('auc', auc)\n",
    "    mlflow.log_metric('f1', f1)\n",
    "    print(\"NeuralNetwork - Test AUC:\" {auc:.4f}, F1: {f1:.4f})"
   ]
  },
  {
   "cell_type": "markdown",
   "id": "23fbf13a",
   "metadata": {},
   "source": [
    "## ✅ Conclusion"
   ]
  },
  {
   "cell_type": "markdown",
   "id": "d09de245",
   "metadata": {},
   "source": [
    "- Comparer les métriques AUC et F1 pour sélectionner le meilleur modèle.\n",
    "- Le modèle retenu sera exporté pour industrialisation (User Story 3.3)."
   ]
  },
  {
   "cell_type": "markdown",
   "id": "3423cd29",
   "metadata": {},
   "source": []
  }
 ],
 "metadata": {
  "kernelspec": {
   "display_name": "venv (3.12.2)",
   "language": "python",
   "name": "python3"
  },
  "language_info": {
   "name": "python",
   "version": "3.12.2"
  }
 },
 "nbformat": 4,
 "nbformat_minor": 5
}
